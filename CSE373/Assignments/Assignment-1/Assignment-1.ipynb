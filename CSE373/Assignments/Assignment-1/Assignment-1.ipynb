{
 "cells": [
  {
   "cell_type": "code",
   "execution_count": 1,
   "metadata": {},
   "outputs": [],
   "source": [
    "import random\n",
    "import time"
   ]
  },
  {
   "cell_type": "code",
   "execution_count": 2,
   "metadata": {},
   "outputs": [],
   "source": [
    "myList = []\n",
    "def getRandomNumberList(length):\n",
    "    for i in range(length):\n",
    "        myList.append(random.randint(0, 1001))\n",
    "    return myList"
   ]
  },
  {
   "cell_type": "markdown",
   "metadata": {},
   "source": [
    "### QuickSort"
   ]
  },
  {
   "cell_type": "code",
   "execution_count": 3,
   "metadata": {},
   "outputs": [
    {
     "name": "stdout",
     "output_type": "stream",
     "text": [
      "Execution time: 229.46704578399658\n"
     ]
    }
   ],
   "source": [
    "def Partition(A, p, r):\n",
    "    # Randomly select a pivot index\n",
    "    pivot_index = random.randint(p, r)\n",
    "    A[r], A[pivot_index] = A[pivot_index], A[r]  # Move pivot element to the end\n",
    "    \n",
    "    x = A[r]\n",
    "    i = p - 1\n",
    "    \n",
    "    for j in range(p, r):\n",
    "        if A[j] <= x:\n",
    "            i += 1\n",
    "            A[i], A[j] = A[j], A[i]  # swap the value\n",
    "    A[i+1], A[r] = A[r], A[i+1]\n",
    "    \n",
    "    return i + 1  # returning pivot index \n",
    "\n",
    "\n",
    "def QuickSort(A, p, r):\n",
    "    if p < r:\n",
    "        q = Partition(A, p, r)\n",
    "        QuickSort(A, p, q-1)\n",
    "        QuickSort(A, q+1, r) \n",
    "\n",
    "# Generate a random number list\n",
    "A = getRandomNumberList(1999999)\n",
    "\n",
    "start_time = time.time()\n",
    "QuickSort(A, 0, len(A)-1)\n",
    "end_time = time.time()\n",
    "\n",
    "# print(\"Sorted list:\", A)\n",
    "execution_time = end_time - start_time\n",
    "print(\"Execution time:\", execution_time)"
   ]
  },
  {
   "cell_type": "code",
   "execution_count": 1,
   "metadata": {},
   "outputs": [],
   "source": [
    "import numpy as np\n",
    "\n",
    "# Generate 100 weights following a normal distribution with mean 50 and standard deviation 10\n",
    "mean = 50\n",
    "std_dev = 10\n",
    "num_packages = 100\n",
    "weights = np.random.normal(mean, std_dev, size=num_packages)\n"
   ]
  },
  {
   "cell_type": "code",
   "execution_count": 2,
   "metadata": {},
   "outputs": [
    {
     "data": {
      "text/plain": [
       "array([39.40827071, 51.82151784, 47.28064306, 56.61381985, 45.36710848,\n",
       "       76.66331094, 42.83252148, 38.35198431, 59.98089784, 44.07854428,\n",
       "       58.45822988, 40.41374112, 27.6436943 , 50.91335206, 49.71925768,\n",
       "       45.00943841, 45.49229207, 43.05285116, 57.61834046, 61.0196701 ,\n",
       "       38.3276108 , 37.35045059, 53.71017204, 45.66473027, 37.48467154,\n",
       "       36.99227855, 31.84642745, 58.99669136, 24.08285692, 56.19368947,\n",
       "       53.0230895 , 41.4368606 , 32.21831815, 51.84356078, 38.55867765,\n",
       "       59.13375074, 58.26641796, 54.61774112, 48.71653269, 48.41791114,\n",
       "       57.10248165, 32.68973703, 65.14469119, 39.79894971, 39.48919835,\n",
       "       52.12702616, 49.43549724, 41.1618184 , 40.43390578, 61.94515052,\n",
       "       17.95827052, 48.43233214, 51.37709481, 51.88038245, 35.89926801,\n",
       "       45.150042  , 69.80084981, 56.30955173, 42.26201877, 48.51065842,\n",
       "       52.16188812, 45.53075882, 44.46963747, 60.62872143, 35.67132263,\n",
       "       74.86097602, 47.43297432, 41.99952477, 52.08466514, 57.47431798,\n",
       "       57.41458962, 39.69317867, 47.30468307, 49.16127764, 49.64448131,\n",
       "       46.33391608, 51.82759026, 59.32275126, 59.88316319, 35.84275459,\n",
       "       61.79320523, 63.06838175, 38.29563239, 74.00849287, 44.12579761,\n",
       "       44.08244846, 51.21495737, 58.70203032, 54.65773343, 50.5842475 ,\n",
       "       22.569757  , 61.85131626, 32.24380374, 45.73085915, 72.25116384,\n",
       "       48.81289615, 42.79788818, 67.78445506, 44.36501103, 52.90710715])"
      ]
     },
     "execution_count": 2,
     "metadata": {},
     "output_type": "execute_result"
    }
   ],
   "source": [
    "weights"
   ]
  },
  {
   "cell_type": "code",
   "execution_count": 3,
   "metadata": {},
   "outputs": [
    {
     "name": "stdout",
     "output_type": "stream",
     "text": [
      "Custom Dataset: [0, 1, 2, 3, 4, 0, 4, 3, 2, 1]\n"
     ]
    }
   ],
   "source": [
    "import random\n",
    "\n",
    "# Function to generate a sorted dataset\n",
    "def generate_sorted_dataset(size):\n",
    "    return list(range(size))\n",
    "\n",
    "# Function to generate an unsorted dataset\n",
    "def generate_unsorted_dataset(size):\n",
    "    dataset = list(range(size))\n",
    "    random.shuffle(dataset)\n",
    "    return dataset\n",
    "\n",
    "# Function to combine sorted and unsorted datasets\n",
    "def generate_custom_dataset(size):\n",
    "    half_size = size // 2\n",
    "    sorted_data = generate_sorted_dataset(half_size)\n",
    "    unsorted_data = generate_unsorted_dataset(half_size)\n",
    "    custom_dataset = sorted_data + unsorted_data\n",
    "    return custom_dataset\n",
    "\n",
    "# Example usage:\n",
    "size = 10  # Total size of the dataset\n",
    "custom_dataset = generate_custom_dataset(size)\n",
    "print(\"Custom Dataset:\", custom_dataset)\n"
   ]
  },
  {
   "cell_type": "code",
   "execution_count": 6,
   "metadata": {},
   "outputs": [
    {
     "name": "stdout",
     "output_type": "stream",
     "text": [
      "Custom Dataset: [0, 1, 2, 3, 4, 5, 6, 7, 8, 9, 291, 997, 691, 738, 750, 977, 953, 928, 864, 134]\n"
     ]
    }
   ],
   "source": [
    "import random\n",
    "\n",
    "def generate_custom_dataset(size):\n",
    "    half_size = size // 2\n",
    "    \n",
    "    # Generate sorted data for the first half\n",
    "    sorted_data = list(range(half_size))\n",
    "    \n",
    "    # Generate random data for the second half\n",
    "    random_data = [random.randint(0, 1000) for _ in range(half_size)]\n",
    "    \n",
    "    # Combine sorted and random data\n",
    "    custom_dataset = sorted_data + random_data\n",
    "    \n",
    "    # Shuffle the combined dataset\n",
    "    # random.shuffle(custom_dataset)\n",
    "    \n",
    "    return custom_dataset\n",
    "\n",
    "# Example usage:\n",
    "size = 20  # Total size of the dataset\n",
    "custom_dataset = generate_custom_dataset(size)\n",
    "print(\"Custom Dataset:\", custom_dataset)\n"
   ]
  },
  {
   "cell_type": "code",
   "execution_count": 9,
   "metadata": {},
   "outputs": [
    {
     "name": "stdout",
     "output_type": "stream",
     "text": [
      "Advanced Dataset: [0, 1, 2, 3, 4, 5, 6, 7, 8, 9, 10, 9, 8, 7, 6, 5, 4, 3, 2, 1]\n"
     ]
    }
   ],
   "source": [
    "import random\n",
    "\n",
    "def generate_advanced_dataset(size):\n",
    "    half_size = size // 2\n",
    "    \n",
    "    # Generate sorted data for the first half in ascending order\n",
    "    ascending_data = list(range(half_size))\n",
    "    \n",
    "    # Generate sorted data for the second half in descending order\n",
    "    descending_data = list(range(half_size, 0, -1))\n",
    "    \n",
    "    # Combine ascending and descending data\n",
    "    advanced_dataset = ascending_data + descending_data\n",
    "    \n",
    "    # Shuffle the combined dataset\n",
    "    # random.shuffle(advanced_dataset)\n",
    "    \n",
    "    return advanced_dataset\n",
    "\n",
    "# Example usage:\n",
    "size = 20  # Total size of the dataset\n",
    "advanced_dataset = generate_advanced_dataset(size)\n",
    "print(\"Advanced Dataset:\", advanced_dataset)\n",
    "\n"
   ]
  },
  {
   "cell_type": "code",
   "execution_count": 10,
   "metadata": {},
   "outputs": [
    {
     "name": "stdout",
     "output_type": "stream",
     "text": [
      "Alternating Dataset: [0, 1, 2, 3, 4, 9, 8, 7, 6, 5, 10, 11, 12, 13, 14, 19, 18, 17, 16, 15]\n"
     ]
    }
   ],
   "source": [
    "import random\n",
    "\n",
    "def generate_alternating_dataset(size, sequence_length=5):\n",
    "    dataset = []\n",
    "    ascending = True\n",
    "    \n",
    "    for i in range(0, size, sequence_length):\n",
    "        sequence = list(range(i, i + sequence_length))\n",
    "        if ascending:\n",
    "            dataset.extend(sequence)\n",
    "        else:\n",
    "            dataset.extend(reversed(sequence))\n",
    "        ascending = not ascending\n",
    "    \n",
    "    return dataset\n",
    "\n",
    "# Example usage:\n",
    "size = 20  # Total size of the dataset\n",
    "sequence_length = 5  # Length of each ascending/descending sequence\n",
    "alternating_dataset = generate_alternating_dataset(size, sequence_length)\n",
    "print(\"Alternating Dataset:\", alternating_dataset)\n"
   ]
  },
  {
   "cell_type": "code",
   "execution_count": 12,
   "metadata": {},
   "outputs": [],
   "source": [
    "import random\n",
    "\n",
    "def generate_unique_int_dataset(size, min_value=0, max_value=1000):\n",
    "    if size > (max_value - min_value + 1):\n",
    "        raise ValueError(\"Size of the dataset exceeds the range of possible values.\")\n",
    "    \n",
    "    dataset = set()  # Using a set to ensure uniqueness\n",
    "    while len(dataset) < size:\n",
    "        dataset.add(random.randint(min_value, max_value))\n",
    "    \n",
    "    return list(dataset)\n",
    "\n",
    "# Example usage:\n",
    "size = 10  # Total size of the dataset\n"
   ]
  },
  {
   "cell_type": "code",
   "execution_count": null,
   "metadata": {},
   "outputs": [],
   "source": []
  }
 ],
 "metadata": {
  "kernelspec": {
   "display_name": "Python 3",
   "language": "python",
   "name": "python3"
  },
  "language_info": {
   "codemirror_mode": {
    "name": "ipython",
    "version": 3
   },
   "file_extension": ".py",
   "mimetype": "text/x-python",
   "name": "python",
   "nbconvert_exporter": "python",
   "pygments_lexer": "ipython3",
   "version": "3.11.4"
  }
 },
 "nbformat": 4,
 "nbformat_minor": 2
}
